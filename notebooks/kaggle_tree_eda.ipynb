{
 "cells": [
  {
   "cell_type": "markdown",
   "metadata": {
    "collapsed": false
   },
   "source": [
    "---\n",
    "title: Kaggle Tree EDA \n",
    "author: Daniil Solovjev\n",
    "format: \n",
    "  html:\n",
    "    code-fold: true\n",
    "toc: true\n",
    "jupyter: python3\n",
    "---"
   ]
  },
  {
   "cell_type": "markdown",
   "source": [
    "## Знакомство с датасетом"
   ],
   "metadata": {
    "collapsed": false
   }
  },
  {
   "cell_type": "markdown",
   "metadata": {
    "collapsed": false
   },
   "source": [
    "__Посмотрим на данные в датасете,__ рисунок: @fig-table-head."
   ]
  },
  {
   "cell_type": "code",
   "execution_count": null,
   "metadata": {
    "collapsed": false
   },
   "outputs": [],
   "source": [
    "#| label: fig-table-head\n",
    "#| fig-cap: \"Просмотр данных\"\n",
    "import os\n",
    "\n",
    "import pandas as pd\n",
    "from dotenv import load_dotenv\n",
    "\n",
    "load_dotenv()\n",
    "DATA_PATH = os.environ.get('KAGGLE_TREE_DATA', \"data.csv\")\n",
    "df = pd.read_csv(DATA_PATH)\n",
    "df.head()"
   ]
  },
  {
   "cell_type": "markdown",
   "source": [
    "__Посмотрим более подробную информацию о датасете,__ рисунок: @fig-table-info."
   ],
   "metadata": {
    "collapsed": false
   }
  },
  {
   "cell_type": "code",
   "execution_count": null,
   "outputs": [],
   "source": [
    "#| label: fig-table-info\n",
    "#| fig-cap: \"Просмотр данных\"\n",
    "import io\n",
    "\n",
    "\n",
    "buf = io.StringIO()\n",
    "df.info(buf=buf)\n",
    "lines = buf.getvalue().splitlines()[3:-2]\n",
    "lines = lines[:1] + lines[2:]\n",
    "lines = [line.split()[1:3] + line.split()[4:5] for line in lines]\n",
    "pd.DataFrame(data=lines[1:], columns=lines[0])"
   ],
   "metadata": {
    "collapsed": false
   }
  },
  {
   "cell_type": "markdown",
   "metadata": {
    "collapsed": false
   },
   "source": [
    "__Посмотрим по каким столбцам есть пропущенные значения,__ рисунок: @fig-missing-values-in-columns."
   ]
  },
  {
   "cell_type": "code",
   "execution_count": null,
   "metadata": {
    "colab": {
     "base_uri": "https://localhost:8080/",
     "height": 497
    },
    "id": "ya8_TPOWYkeC",
    "outputId": "2b47f1c0-5fce-431f-d911-fdf83f593e99"
   },
   "outputs": [],
   "source": [
    "#| label: fig-missing-values-in-columns\n",
    "#| fig-cap: \"Просмотр пропущенных значений в данных\"\n",
    "import matplotlib.pyplot as plt\n",
    "import seaborn as sns\n",
    "\n",
    "sns.set_theme(style=\"whitegrid\")\n",
    "\n",
    "\n",
    "nullable_df = df.isna().sum()\n",
    "missing_data_percentage_df = nullable_df[nullable_df > 0] / len(df) * 100\n",
    "missing_data_percentage_df = missing_data_percentage_df.sort_values()\n",
    "\n",
    "f, ax = plt.subplots(1, 1, figsize=(10, 5), sharex=True)\n",
    "x = missing_data_percentage_df.values\n",
    "y = missing_data_percentage_df.index\n",
    "sns.barplot(x=x, y=y, hue=y, palette=\"rocket\", ax=ax, orient=\"y\")\n",
    "ax.set_ylabel(\"Столбцы\")\n",
    "ax.set_xlabel(\"Процент пропущенных значений, %\")\n",
    "ax.set_title(\"Процент пропущенных значений\")\n",
    "plt.show()"
   ]
  },
  {
   "cell_type": "markdown",
   "metadata": {
    "collapsed": false
   },
   "source": [
    "__Посмотрим на виды деревьев,__ рисунок: @fig-tree-species."
   ]
  },
  {
   "cell_type": "code",
   "execution_count": null,
   "metadata": {
    "collapsed": false
   },
   "outputs": [],
   "source": [
    "#| label: fig-tree-species\n",
    "#| fig-cap: \"Диаграмма видов деревьев\"\n",
    "N_SPECIES = 10\n",
    "tree_species = df[\"spc_common\"].value_counts()[:N_SPECIES]\n",
    "labels = list(tree_species.index) + [\"other\"]\n",
    "values = list(tree_species.values) + [sum(v for v in df[\"spc_common\"].value_counts()[N_SPECIES:].values)]\n",
    "colors = sns.color_palette('pastel')\n",
    "_, ax = plt.subplots(1, 1, figsize=(12, 8), sharex=True)\n",
    "ax.pie(values, labels=labels, colors=colors, autopct='%.1f%%')\n",
    "ax.set_title(\"Виды деревьев\")\n",
    "plt.show()"
   ]
  },
  {
   "cell_type": "markdown",
   "source": [
    "## Анализ признаков"
   ],
   "metadata": {
    "collapsed": false
   }
  },
  {
   "cell_type": "markdown",
   "metadata": {
    "collapsed": false
   },
   "source": [
    "__Проведем попарное сравнение некоторых признаков,__ рисунок: @fig-pair-diagram."
   ]
  },
  {
   "cell_type": "code",
   "execution_count": null,
   "metadata": {
    "colab": {
     "base_uri": "https://localhost:8080/",
     "height": 1000
    },
    "id": "2pnH6cNhZ7Lj",
    "outputId": "95ba1b98-3b14-4c3c-c400-66b65a9510a2"
   },
   "outputs": [],
   "source": [
    "#| label: fig-pair-diagram\n",
    "#| fig-cap: \"Диаграмма попарного сравнения\"\n",
    "PAIRPLOT_FEATURES = [\"tree_dbh\", \"stump_diam\", \"latitude\", \"longitude\"]\n",
    "PAIRPLOT_N_ROWS = int(len(df) * 0.1)\n",
    "pairplot_df = df[PAIRPLOT_FEATURES].sample(PAIRPLOT_N_ROWS)\n",
    "\n",
    "pairplot = sns.pairplot(pairplot_df, diag_kind=\"kde\", corner=True)"
   ]
  },
  {
   "cell_type": "markdown",
   "metadata": {
    "collapsed": false
   },
   "source": [
    "__Посмотрим на тепловую карту корреляций вещественных признаков,__ рисунок: @fig-corr-heatmap."
   ]
  },
  {
   "cell_type": "code",
   "execution_count": null,
   "metadata": {
    "colab": {
     "base_uri": "https://localhost:8080/",
     "height": 765
    },
    "id": "fNSM_yuFlUap",
    "outputId": "e0b2ab8d-9b79-4208-b7c1-f5f7584638e9"
   },
   "outputs": [],
   "source": [
    "#| label: fig-corr-heatmap\n",
    "#| fig-cap: \"Тепловая карта корреляции\"\n",
    "FLOAT_FEATURES = [\"tree_dbh\", \"stump_diam\", \"latitude\", \"longitude\", \"x_sp\", \"y_sp\", \"bbl\", \"bin\"]\n",
    "corr_df = df[FLOAT_FEATURES].corr()\n",
    "_, ax = plt.subplots(figsize=(11, 9))\n",
    "sns.heatmap(corr_df, annot=True, fmt=\".1f\", ax=ax)\n",
    "plt.show()"
   ]
  },
  {
   "cell_type": "markdown",
   "source": [
    "## Визуализация на карте"
   ],
   "metadata": {
    "collapsed": false
   }
  },
  {
   "cell_type": "markdown",
   "metadata": {
    "collapsed": false
   },
   "source": [
    "__Посмотрим небольшую выборку деревьев на карте,__ рисунок: @fig-map."
   ]
  },
  {
   "cell_type": "code",
   "execution_count": null,
   "metadata": {
    "id": "tHHP3UE8v2DG"
   },
   "outputs": [],
   "source": [
    "#| label: fig-map\n",
    "#| fig-cap: \"Карта распределения деревьев\"\n",
    "import folium # type: ignore[import-untyped]\n",
    "import numpy as np\n",
    "from folium.plugins import GroupedLayerControl # type: ignore[import-untyped]\n",
    "\n",
    "MAP_N_ROWS = 500\n",
    "\n",
    "\n",
    "def colorize_by_health(health_status: str) -> str: \n",
    "  \"\"\"Get color by health status.\n",
    "  \n",
    "  :param health_status: \n",
    "  :return: color\n",
    "  \"\"\"\n",
    "  color_dict = {\n",
    "    \"Fair\": \"green\",\n",
    "    \"Good\": \"orange\", \n",
    "    \"Poor\": \"red\" \n",
    "  }\n",
    "  unknown_color = \"gray\" \n",
    "  return color_dict.get(health_status, unknown_color)\n",
    "\n",
    "center = df[\"latitude\"].mean(), df[\"longitude\"].mean()\n",
    "map = folium.Map(location=center, zoom_start = 10)\n",
    "\n",
    "species_groups = dict()\n",
    "for spec in tree_species.index:\n",
    "  species_groups[spec] = folium.FeatureGroup(name=spec.lower())\n",
    "other_group = folium.FeatureGroup(name='other')\n",
    "\n",
    "indexes = np.random.choice(len(df), MAP_N_ROWS)\n",
    "for idx in indexes:\n",
    "  row = df.iloc[idx]\n",
    "  popup = f\"tree_id={row.tree_id} <br/> health={'Unknown' if pd.isna(row.health) else row.health} <br/> status={row.status}\"\n",
    "  location = [row.latitude, row.longitude]\n",
    "  icon = folium.Icon(color = colorize_by_health(row.health))\n",
    "  group = species_groups.get(row.spc_common, other_group)\n",
    "  folium.Marker(location = location, popup = popup, icon = icon, fill_opacity = 0.9).add_to(group)\n",
    "  \n",
    "groups = list(species_groups.values()) + [other_group]\n",
    "for group in groups:\n",
    "  map.add_child(group)\n",
    "\n",
    "GroupedLayerControl(\n",
    "    groups={'Виды деревьев': groups},\n",
    "    exclusive_groups=False,\n",
    "    collapsed=False,\n",
    ").add_to(map)\n",
    "map"
   ]
  }
 ],
 "metadata": {
  "colab": {
   "provenance": []
  },
  "kernelspec": {
   "display_name": "Python 3",
   "name": "python3"
  },
  "language_info": {
   "name": "python"
  }
 },
 "nbformat": 4,
 "nbformat_minor": 0
}
