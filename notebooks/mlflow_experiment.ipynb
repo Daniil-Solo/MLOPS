{
 "cells": [
  {
   "cell_type": "code",
   "execution_count": 32,
   "id": "initial_id",
   "metadata": {
    "ExecuteTime": {
     "end_time": "2024-05-06T17:05:20.519993900Z",
     "start_time": "2024-05-06T17:05:20.513476800Z"
    },
    "collapsed": true
   },
   "outputs": [],
   "source": [
    "import os\n",
    "import re\n",
    "from functools import lru_cache\n",
    "\n",
    "import matplotlib.pyplot as plt\n",
    "import mlflow\n",
    "import nltk\n",
    "import numpy as np\n",
    "import pandas as pd\n",
    "from nltk.stem.snowball import EnglishStemmer\n",
    "from sklearn.ensemble import RandomForestClassifier\n",
    "from sklearn.feature_extraction.text import TfidfVectorizer\n",
    "from sklearn.linear_model import LogisticRegression, RidgeClassifier\n",
    "from sklearn.metrics import ConfusionMatrixDisplay, accuracy_score, precision_score, recall_score"
   ]
  },
  {
   "cell_type": "code",
   "execution_count": 12,
   "id": "fcd5ed3ea423d7ad",
   "metadata": {
    "ExecuteTime": {
     "end_time": "2024-05-05T20:30:17.295584400Z",
     "start_time": "2024-05-05T20:30:17.282067600Z"
    },
    "collapsed": false
   },
   "outputs": [],
   "source": [
    "DATASET_TRAIN_FILE = \"./../data/raw-train.csv\"\n",
    "DATASET_TEST_FILE = \"./../data/raw-test.csv\"\n",
    "RANDOM_STATE = 42\n",
    "N_JOBS = 8"
   ]
  },
  {
   "cell_type": "code",
   "execution_count": 3,
   "id": "13d538c026b2988a",
   "metadata": {
    "ExecuteTime": {
     "end_time": "2024-05-05T19:54:53.554140900Z",
     "start_time": "2024-05-05T19:54:53.159491800Z"
    },
    "collapsed": false
   },
   "outputs": [
    {
     "name": "stderr",
     "output_type": "stream",
     "text": [
      "[nltk_data] Downloading package punkt to\n",
      "[nltk_data]     C:\\Users\\user\\AppData\\Roaming\\nltk_data...\n",
      "[nltk_data]   Package punkt is already up-to-date!\n"
     ]
    }
   ],
   "source": [
    "nltk.download(\"punkt\")\n",
    "stemmer = EnglishStemmer()"
   ]
  },
  {
   "cell_type": "code",
   "execution_count": 4,
   "id": "1134018fafece932",
   "metadata": {
    "ExecuteTime": {
     "end_time": "2024-05-05T19:54:55.640217400Z",
     "start_time": "2024-05-05T19:54:55.637877100Z"
    },
    "collapsed": false
   },
   "outputs": [],
   "source": [
    "@lru_cache(maxsize=10240, typed=True)\n",
    "def stem_with_cache(w: str) -> str:\n",
    "    \"\"\"Run stemming with using cache.\n",
    "\n",
    "    :param w:\n",
    "    :return:\n",
    "    \"\"\"\n",
    "    return str(stemmer.stem(w))"
   ]
  },
  {
   "cell_type": "code",
   "execution_count": 9,
   "id": "263d9c1c20a078c7",
   "metadata": {
    "ExecuteTime": {
     "end_time": "2024-05-05T20:03:31.753258700Z",
     "start_time": "2024-05-05T19:55:46.375943200Z"
    },
    "collapsed": false
   },
   "outputs": [],
   "source": [
    "prepared_data = dict()\n",
    "for dataset_file in (DATASET_TRAIN_FILE, DATASET_TEST_FILE):\n",
    "    df = pd.read_csv(DATASET_TRAIN_FILE, names=[\"class\", \"title\", \"text\"])\n",
    "    # Missing values\n",
    "    df = df[~(df[\"title\"].isnull() & df[\"text\"].isnull())]\n",
    "    df[\"title\"] = df[\"title\"].apply(lambda x: \"\" if pd.isna(x) else x)\n",
    "    # Text processing - concatenating\n",
    "    df[\"all_text\"] = df[\"title\"] + \", \" + df[\"text\"]\n",
    "    del df[\"title\"]\n",
    "    del df[\"text\"]\n",
    "    # Text processing - lowering\n",
    "    df[\"lowered_text\"] = df[\"all_text\"].apply(lambda x: x.lower())\n",
    "    del df[\"all_text\"]\n",
    "    # Text processing - cleaning\n",
    "    df[\"cleaned_text\"] = df[\"lowered_text\"].apply(lambda x: \" \".join(re.findall(\"[-a-z]{2,}\", x)))\n",
    "    del df[\"lowered_text\"]\n",
    "    # Text processing - stemming\n",
    "    df[\"text\"] = df[\"cleaned_text\"].apply(\n",
    "        lambda x: \" \".join(stem_with_cache(w) for w in x.split(\" \"))\n",
    "    )\n",
    "    del df[\"cleaned_text\"]\n",
    "    # Transform class to target\n",
    "    df[\"target\"] = df[\"class\"].apply(lambda x: 0 if x == 1 else 1)\n",
    "    del df[\"class\"]\n",
    "    prepared_data[dataset_file] = df"
   ]
  },
  {
   "cell_type": "code",
   "execution_count": 10,
   "id": "bda48dfd84adb2b1",
   "metadata": {
    "ExecuteTime": {
     "end_time": "2024-05-05T20:10:08.038542200Z",
     "start_time": "2024-05-05T20:06:49.229222900Z"
    },
    "collapsed": false
   },
   "outputs": [],
   "source": [
    "prepared_data[DATASET_TRAIN_FILE][\"text\"] = prepared_data[DATASET_TRAIN_FILE][\"text\"].fillna(\"\")\n",
    "# vectorization train dataframe\n",
    "tfidf_vectorizer = TfidfVectorizer(max_features=1500, stop_words=\"english\")\n",
    "train_data = tfidf_vectorizer.fit_transform(prepared_data[DATASET_TRAIN_FILE][\"text\"])\n",
    "train_target = prepared_data[DATASET_TRAIN_FILE][\"target\"]\n",
    "del prepared_data[DATASET_TRAIN_FILE]\n",
    "# test dataframe\n",
    "prepared_data[DATASET_TEST_FILE][\"text\"] = prepared_data[DATASET_TEST_FILE][\"text\"].fillna(\"\")\n",
    "test_data = tfidf_vectorizer.transform(prepared_data[DATASET_TEST_FILE][\"text\"])\n",
    "test_target = prepared_data[DATASET_TEST_FILE][\"target\"]\n",
    "del prepared_data[DATASET_TEST_FILE]"
   ]
  },
  {
   "cell_type": "code",
   "execution_count": 23,
   "id": "330c125d1de15025",
   "metadata": {
    "ExecuteTime": {
     "end_time": "2024-05-05T20:46:04.517146600Z",
     "start_time": "2024-05-05T20:46:04.515631800Z"
    },
    "collapsed": false
   },
   "outputs": [],
   "source": [
    "def conf_matrix(y_true: pd.Series, pred: np.ndarray) -> plt.Figure:  # type: ignore[name-defined, type-arg]\n",
    "    \"\"\"Run creating confusion matrix as figure.\n",
    "\n",
    "    :param y_true: true values\n",
    "    :param pred: predictions\n",
    "    :return: figure from matplotlib\n",
    "    \"\"\"\n",
    "    plt.ioff()  \n",
    "    figure, ax = plt.subplots(figsize=(5, 5))  \n",
    "    ConfusionMatrixDisplay.from_predictions(y_true, pred, ax=ax, colorbar=False)  \n",
    "    ax.xaxis.set_tick_params(rotation=90)  \n",
    "    _ = ax.set_title(\"Confusion Matrix\")  \n",
    "    plt.tight_layout()  \n",
    "    return figure"
   ]
  },
  {
   "cell_type": "code",
   "execution_count": 13,
   "id": "ab1813f2c3c6a5f8",
   "metadata": {
    "ExecuteTime": {
     "start_time": "2024-05-05T20:30:31.601223900Z"
    },
    "collapsed": false
   },
   "outputs": [
    {
     "name": "stderr",
     "output_type": "stream",
     "text": [
      "2024/05/05 23:30:31 INFO mlflow.tracking.fluent: Experiment with name 'amazon_reviews' does not exist. Creating a new experiment.\n"
     ]
    }
   ],
   "source": [
    "mlflow.set_tracking_uri(\"http://127.0.0.1:5000\")\n",
    "amazon_reviews_experiment = mlflow.set_experiment(\"amazon_reviews\")"
   ]
  },
  {
   "cell_type": "code",
   "execution_count": 22,
   "id": "607c18b1e77792f5",
   "metadata": {
    "ExecuteTime": {
     "start_time": "2024-05-05T20:46:02.687832300Z"
    },
    "collapsed": false
   },
   "outputs": [],
   "source": [
    "os.environ[\"AWS_ACCESS_KEY_ID\"] = \"mlflow\"\n",
    "os.environ[\"AWS_SECRET_ACCESS_KEY\"] = \"password\"\n",
    "os.environ[\"MLFLOW_S3_ENDPOINT_URL\"] = \"http://127.0.0.1:9000\""
   ]
  },
  {
   "cell_type": "code",
   "execution_count": 26,
   "id": "a2357fd418bf7449",
   "metadata": {
    "ExecuteTime": {
     "end_time": "2024-05-06T16:33:52.255611100Z",
     "start_time": "2024-05-06T16:32:32.702874800Z"
    },
    "collapsed": false
   },
   "outputs": [
    {
     "name": "stderr",
     "output_type": "stream",
     "text": [
      "C:\\Users\\user\\PycharmProjects\\MLOPS\\venv\\Lib\\site-packages\\_distutils_hack\\__init__.py:11: UserWarning: Distutils was imported before Setuptools, but importing Setuptools also replaces the `distutils` module in `sys.modules`. This may lead to undesirable behaviors or errors. To avoid these issues, avoid using distutils directly, ensure that setuptools is installed in the traditional way (e.g. not an editable install), and/or make sure that setuptools is always imported before distutils.\n",
      "  warnings.warn(\n",
      "C:\\Users\\user\\PycharmProjects\\MLOPS\\venv\\Lib\\site-packages\\_distutils_hack\\__init__.py:26: UserWarning: Setuptools is replacing distutils.\n",
      "  warnings.warn(\"Setuptools is replacing distutils.\")\n"
     ]
    }
   ],
   "source": [
    "run_name = \"log-reg\"\n",
    "with mlflow.start_run(run_name=run_name) as run:  \n",
    "    model_params = {  \n",
    "        \"penalty\": \"l2\",  \n",
    "        \"solver\": \"saga\",  \n",
    "        \"max_iter\": 100,\n",
    "        \"multi_class\": \"ovr\",\n",
    "        \"random_state\": RANDOM_STATE\n",
    "    }  \n",
    "    mlflow.log_params(model_params)\n",
    "    model = LogisticRegression(**model_params)  \n",
    "    model.fit(train_data, train_target)  \n",
    "    predictions = model.predict(test_data)  \n",
    "    metrics = {\n",
    "        \"accuracy\": accuracy_score(test_target, predictions),\n",
    "        \"precision\": precision_score(test_target, predictions),\n",
    "        \"recall\": recall_score(test_target, predictions),\n",
    "    }\n",
    "    for metric_name, metric_value in metrics.items():\n",
    "        mlflow.log_metric(metric_name, metric_value)    \n",
    "    mlflow.sklearn.log_model(  \n",
    "        sk_model=model,     \n",
    "        artifact_path=f\"mlflow/{run_name}/model\"  \n",
    "    )  \n",
    "    fig = conf_matrix(test_target, predictions)  \n",
    "    mlflow.log_figure(fig, f'{run_name}_confusion_matrix.png')"
   ]
  },
  {
   "cell_type": "code",
   "execution_count": 27,
   "id": "e8285592b5c0636",
   "metadata": {
    "ExecuteTime": {
     "end_time": "2024-05-06T16:42:38.025260900Z",
     "start_time": "2024-05-06T16:36:30.012792500Z"
    },
    "collapsed": false
   },
   "outputs": [
    {
     "name": "stderr",
     "output_type": "stream",
     "text": [
      "C:\\Users\\user\\PycharmProjects\\MLOPS\\venv\\Lib\\site-packages\\_distutils_hack\\__init__.py:11: UserWarning: Distutils was imported before Setuptools, but importing Setuptools also replaces the `distutils` module in `sys.modules`. This may lead to undesirable behaviors or errors. To avoid these issues, avoid using distutils directly, ensure that setuptools is installed in the traditional way (e.g. not an editable install), and/or make sure that setuptools is always imported before distutils.\n",
      "  warnings.warn(\n",
      "C:\\Users\\user\\PycharmProjects\\MLOPS\\venv\\Lib\\site-packages\\_distutils_hack\\__init__.py:26: UserWarning: Setuptools is replacing distutils.\n",
      "  warnings.warn(\"Setuptools is replacing distutils.\")\n"
     ]
    }
   ],
   "source": [
    "run_name = \"random-forest\"\n",
    "with mlflow.start_run(run_name=run_name) as run:  \n",
    "    model_params = {  \n",
    "        \"n_estimators\": 100,  \n",
    "        \"max_depth\": 12,  \n",
    "        \"n_jobs\": N_JOBS,\n",
    "        \"random_state\": RANDOM_STATE\n",
    "    }  \n",
    "    mlflow.log_params(model_params)\n",
    "    model = RandomForestClassifier(**model_params)  \n",
    "    model.fit(train_data, train_target)  \n",
    "    predictions = model.predict(test_data)  \n",
    "    metrics = {\n",
    "        \"accuracy\": accuracy_score(test_target, predictions),\n",
    "        \"precision\": precision_score(test_target, predictions),\n",
    "        \"recall\": recall_score(test_target, predictions),\n",
    "    }\n",
    "    for metric_name, metric_value in metrics.items():\n",
    "        mlflow.log_metric(metric_name, metric_value)    \n",
    "    mlflow.sklearn.log_model(  \n",
    "        sk_model=model,     \n",
    "        artifact_path=f\"mlflow/{run_name}/model\"  \n",
    "    )  \n",
    "    fig = conf_matrix(test_target, predictions)  \n",
    "    mlflow.log_figure(fig, f'{run_name}_confusion_matrix.png')"
   ]
  },
  {
   "cell_type": "code",
   "execution_count": 33,
   "id": "aea37d5129063de4",
   "metadata": {
    "ExecuteTime": {
     "end_time": "2024-05-06T17:07:02.751282600Z",
     "start_time": "2024-05-06T17:06:51.962496200Z"
    },
    "collapsed": false
   },
   "outputs": [
    {
     "name": "stderr",
     "output_type": "stream",
     "text": [
      "C:\\Users\\user\\PycharmProjects\\MLOPS\\venv\\Lib\\site-packages\\_distutils_hack\\__init__.py:11: UserWarning: Distutils was imported before Setuptools, but importing Setuptools also replaces the `distutils` module in `sys.modules`. This may lead to undesirable behaviors or errors. To avoid these issues, avoid using distutils directly, ensure that setuptools is installed in the traditional way (e.g. not an editable install), and/or make sure that setuptools is always imported before distutils.\n",
      "  warnings.warn(\n",
      "C:\\Users\\user\\PycharmProjects\\MLOPS\\venv\\Lib\\site-packages\\_distutils_hack\\__init__.py:26: UserWarning: Setuptools is replacing distutils.\n",
      "  warnings.warn(\"Setuptools is replacing distutils.\")\n"
     ]
    }
   ],
   "source": [
    "run_name = \"ridge\"\n",
    "with mlflow.start_run(run_name=run_name) as run:  \n",
    "    model_params = {\n",
    "        \"tol\": 1e-2,\n",
    "        \"max_iter\": 100,\n",
    "        \"solver\": \"sparse_cg\",\n",
    "        \"random_state\": RANDOM_STATE,\n",
    "    }  \n",
    "    mlflow.log_params(model_params)\n",
    "    model = RidgeClassifier(**model_params)  \n",
    "    model.fit(train_data, train_target)  \n",
    "    predictions = model.predict(test_data)  \n",
    "    metrics = {\n",
    "        \"accuracy\": accuracy_score(test_target, predictions),\n",
    "        \"precision\": precision_score(test_target, predictions),\n",
    "        \"recall\": recall_score(test_target, predictions),\n",
    "    }\n",
    "    for metric_name, metric_value in metrics.items():\n",
    "        mlflow.log_metric(metric_name, metric_value)    \n",
    "    mlflow.sklearn.log_model(  \n",
    "        sk_model=model,     \n",
    "        artifact_path=f\"mlflow/{run_name}/model\"  \n",
    "    )  \n",
    "    fig = conf_matrix(test_target, predictions)  \n",
    "    mlflow.log_figure(fig, f'{run_name}_confusion_matrix.png')"
   ]
  }
 ],
 "metadata": {
  "kernelspec": {
   "display_name": "Python 3",
   "language": "python",
   "name": "python3"
  },
  "language_info": {
   "codemirror_mode": {
    "name": "ipython",
    "version": 2
   },
   "file_extension": ".py",
   "mimetype": "text/x-python",
   "name": "python",
   "nbconvert_exporter": "python",
   "pygments_lexer": "ipython2",
   "version": "2.7.6"
  }
 },
 "nbformat": 4,
 "nbformat_minor": 5
}
